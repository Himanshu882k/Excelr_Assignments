{
 "cells": [
  {
   "cell_type": "code",
   "execution_count": 1,
   "id": "d432cb3e",
   "metadata": {},
   "outputs": [],
   "source": [
    "import numpy as np\n",
    "from scipy import stats\n",
    "from scipy.stats import norm"
   ]
  },
  {
   "cell_type": "code",
   "execution_count": 2,
   "id": "2bd85ea4",
   "metadata": {},
   "outputs": [
    {
     "data": {
      "text/plain": [
       "-1.25"
      ]
     },
     "execution_count": 2,
     "metadata": {},
     "output_type": "execute_result"
    }
   ],
   "source": [
    "z=(45-50)/(40/100**0.5)\n",
    "z"
   ]
  },
  {
   "cell_type": "code",
   "execution_count": 3,
   "id": "ecc50444",
   "metadata": {},
   "outputs": [
    {
     "data": {
      "text/plain": [
       "1.25"
      ]
     },
     "execution_count": 3,
     "metadata": {},
     "output_type": "execute_result"
    }
   ],
   "source": [
    "z=(55-50)/(40/100**0.5)\n",
    "z"
   ]
  },
  {
   "cell_type": "code",
   "execution_count": 4,
   "id": "ca38deb5",
   "metadata": {},
   "outputs": [
    {
     "data": {
      "text/plain": [
       "0.7887004526662893"
      ]
     },
     "execution_count": 4,
     "metadata": {},
     "output_type": "execute_result"
    }
   ],
   "source": [
    "stats.norm.cdf(1.25)-stats.norm.cdf(-1.25)"
   ]
  },
  {
   "cell_type": "code",
   "execution_count": 5,
   "id": "28e6efd8",
   "metadata": {},
   "outputs": [
    {
     "data": {
      "text/plain": [
       "(45.00000495667348, 54.99999504332652)"
      ]
     },
     "execution_count": 5,
     "metadata": {},
     "output_type": "execute_result"
    }
   ],
   "source": [
    "stats.norm.interval(0.7887,loc=50,scale=40/(100**0.5))"
   ]
  },
  {
   "cell_type": "code",
   "execution_count": 6,
   "id": "e760d993",
   "metadata": {},
   "outputs": [
    {
     "data": {
      "text/plain": [
       "0.21130000000000004"
      ]
     },
     "execution_count": 6,
     "metadata": {},
     "output_type": "execute_result"
    }
   ],
   "source": [
    "1-0.7887"
   ]
  },
  {
   "cell_type": "code",
   "execution_count": null,
   "id": "826680f1",
   "metadata": {},
   "outputs": [],
   "source": []
  }
 ],
 "metadata": {
  "kernelspec": {
   "display_name": "Python 3 (ipykernel)",
   "language": "python",
   "name": "python3"
  },
  "language_info": {
   "codemirror_mode": {
    "name": "ipython",
    "version": 3
   },
   "file_extension": ".py",
   "mimetype": "text/x-python",
   "name": "python",
   "nbconvert_exporter": "python",
   "pygments_lexer": "ipython3",
   "version": "3.9.13"
  }
 },
 "nbformat": 4,
 "nbformat_minor": 5
}
