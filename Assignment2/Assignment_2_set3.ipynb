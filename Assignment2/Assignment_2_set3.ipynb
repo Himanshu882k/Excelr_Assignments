{
 "cells": [
  {
   "cell_type": "markdown",
   "id": "52593df3",
   "metadata": {},
   "source": [
    "# Q5"
   ]
  },
  {
   "cell_type": "code",
   "execution_count": 5,
   "id": "9eb13536",
   "metadata": {},
   "outputs": [],
   "source": [
    "import numpy as np\n",
    "from scipy import stats\n",
    "import scipy"
   ]
  },
  {
   "cell_type": "code",
   "execution_count": 3,
   "id": "abfac5db",
   "metadata": {},
   "outputs": [],
   "source": [
    "z = (0.046 - 0.05) / np.sqrt(0.05 * 0.95 / 2000) "
   ]
  },
  {
   "cell_type": "code",
   "execution_count": 4,
   "id": "6a645157",
   "metadata": {},
   "outputs": [
    {
     "data": {
      "text/plain": [
       "-0.820782681668124"
      ]
     },
     "execution_count": 4,
     "metadata": {},
     "output_type": "execute_result"
    }
   ],
   "source": [
    "z"
   ]
  },
  {
   "cell_type": "code",
   "execution_count": 6,
   "id": "46ab1391",
   "metadata": {},
   "outputs": [
    {
     "data": {
      "text/plain": [
       "0.20590858540400786"
      ]
     },
     "execution_count": 6,
     "metadata": {},
     "output_type": "execute_result"
    }
   ],
   "source": [
    "stats.norm.cdf(-0.8207)"
   ]
  },
  {
   "cell_type": "code",
   "execution_count": null,
   "id": "29288c8d",
   "metadata": {},
   "outputs": [],
   "source": []
  }
 ],
 "metadata": {
  "kernelspec": {
   "display_name": "Python 3 (ipykernel)",
   "language": "python",
   "name": "python3"
  },
  "language_info": {
   "codemirror_mode": {
    "name": "ipython",
    "version": 3
   },
   "file_extension": ".py",
   "mimetype": "text/x-python",
   "name": "python",
   "nbconvert_exporter": "python",
   "pygments_lexer": "ipython3",
   "version": "3.9.13"
  }
 },
 "nbformat": 4,
 "nbformat_minor": 5
}
