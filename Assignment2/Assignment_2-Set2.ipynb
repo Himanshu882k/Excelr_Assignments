{
 "cells": [
  {
   "cell_type": "markdown",
   "id": "e83cb0e5",
   "metadata": {},
   "source": [
    "# Q1"
   ]
  },
  {
   "cell_type": "code",
   "execution_count": 15,
   "id": "4623f649",
   "metadata": {},
   "outputs": [],
   "source": [
    "from scipy import stats\n",
    "import numpy as np"
   ]
  },
  {
   "cell_type": "code",
   "execution_count": 3,
   "id": "219dbbe1",
   "metadata": {},
   "outputs": [
    {
     "data": {
      "text/plain": [
       "0.26598552904870054"
      ]
     },
     "execution_count": 3,
     "metadata": {},
     "output_type": "execute_result"
    }
   ],
   "source": [
    "mean = 45+n\n",
    "n=10\n",
    "sd=8\n",
    "prob = 1- stats.norm.cdf(60,55,8)\n",
    "prob"
   ]
  },
  {
   "cell_type": "markdown",
   "id": "13be214c",
   "metadata": {},
   "source": [
    "# Q2"
   ]
  },
  {
   "cell_type": "code",
   "execution_count": 7,
   "id": "ddbd8394",
   "metadata": {},
   "outputs": [
    {
     "data": {
      "text/plain": [
       "0.15865525393145707"
      ]
     },
     "execution_count": 7,
     "metadata": {},
     "output_type": "execute_result"
    }
   ],
   "source": [
    "1- stats.norm.cdf(44,38,6)"
   ]
  },
  {
   "cell_type": "code",
   "execution_count": 9,
   "id": "d5476f10",
   "metadata": {},
   "outputs": [
    {
     "data": {
      "text/plain": [
       "0.3413447460685429"
      ]
     },
     "execution_count": 9,
     "metadata": {},
     "output_type": "execute_result"
    }
   ],
   "source": [
    " stats.norm.cdf(44,38,6) -  stats.norm.cdf(38,38,6)"
   ]
  },
  {
   "cell_type": "code",
   "execution_count": 13,
   "id": "ce7fcb87",
   "metadata": {},
   "outputs": [
    {
     "data": {
      "text/plain": [
       "0.09121121972586788"
      ]
     },
     "execution_count": 13,
     "metadata": {},
     "output_type": "execute_result"
    }
   ],
   "source": [
    "f = stats.norm.cdf(30,38,6)\n",
    "f\n"
   ]
  },
  {
   "cell_type": "code",
   "execution_count": 14,
   "id": "5bf845a7",
   "metadata": {},
   "outputs": [
    {
     "data": {
      "text/plain": [
       "36.484487890347154"
      ]
     },
     "execution_count": 14,
     "metadata": {},
     "output_type": "execute_result"
    }
   ],
   "source": [
    "f*400"
   ]
  },
  {
   "cell_type": "markdown",
   "id": "ef636a3a",
   "metadata": {},
   "source": [
    "# Q5"
   ]
  },
  {
   "cell_type": "code",
   "execution_count": 22,
   "id": "56896391",
   "metadata": {},
   "outputs": [],
   "source": [
    "mean = (7+5)*45\n",
    "sd = np.sqrt(9+16)*45"
   ]
  },
  {
   "cell_type": "code",
   "execution_count": 23,
   "id": "4868df7f",
   "metadata": {},
   "outputs": [
    {
     "data": {
      "text/plain": [
       "540"
      ]
     },
     "execution_count": 23,
     "metadata": {},
     "output_type": "execute_result"
    }
   ],
   "source": [
    "mean"
   ]
  },
  {
   "cell_type": "code",
   "execution_count": 18,
   "id": "d62fccea",
   "metadata": {},
   "outputs": [
    {
     "data": {
      "text/plain": [
       "225.0"
      ]
     },
     "execution_count": 18,
     "metadata": {},
     "output_type": "execute_result"
    }
   ],
   "source": [
    "sd"
   ]
  },
  {
   "cell_type": "markdown",
   "id": "e6852f72",
   "metadata": {},
   "source": [
    "# A"
   ]
  },
  {
   "cell_type": "code",
   "execution_count": 24,
   "id": "d3884902",
   "metadata": {},
   "outputs": [
    {
     "data": {
      "text/plain": [
       "(99.00810347848784, 980.9918965215122)"
      ]
     },
     "execution_count": 24,
     "metadata": {},
     "output_type": "execute_result"
    }
   ],
   "source": [
    "stats.norm.interval(0.95,540,225)"
   ]
  },
  {
   "cell_type": "markdown",
   "id": "d071e3a3",
   "metadata": {},
   "source": [
    "# B"
   ]
  },
  {
   "cell_type": "code",
   "execution_count": 33,
   "id": "73d6d1aa",
   "metadata": {},
   "outputs": [],
   "source": [
    "z_score = stats.norm.cdf(0.05)\n",
    "per_5 = mean + z_score*sd"
   ]
  },
  {
   "cell_type": "code",
   "execution_count": 31,
   "id": "cadd7f29",
   "metadata": {},
   "outputs": [
    {
     "data": {
      "text/plain": [
       "170.0"
      ]
     },
     "execution_count": 31,
     "metadata": {},
     "output_type": "execute_result"
    }
   ],
   "source": [
    "np.round(x)"
   ]
  },
  {
   "cell_type": "markdown",
   "id": "3ff7fc20",
   "metadata": {},
   "source": [
    "## C"
   ]
  },
  {
   "cell_type": "code",
   "execution_count": 34,
   "id": "78f98801",
   "metadata": {},
   "outputs": [
    {
     "data": {
      "text/plain": [
       "0.0477903522728147"
      ]
     },
     "execution_count": 34,
     "metadata": {},
     "output_type": "execute_result"
    }
   ],
   "source": [
    " stats.norm.cdf(0,5,3)"
   ]
  },
  {
   "cell_type": "code",
   "execution_count": 35,
   "id": "a4f16da8",
   "metadata": {},
   "outputs": [
    {
     "data": {
      "text/plain": [
       "0.040059156863817086"
      ]
     },
     "execution_count": 35,
     "metadata": {},
     "output_type": "execute_result"
    }
   ],
   "source": [
    " stats.norm.cdf(0,7,4)"
   ]
  },
  {
   "cell_type": "code",
   "execution_count": null,
   "id": "f83df9e1",
   "metadata": {},
   "outputs": [],
   "source": []
  }
 ],
 "metadata": {
  "kernelspec": {
   "display_name": "Python 3 (ipykernel)",
   "language": "python",
   "name": "python3"
  },
  "language_info": {
   "codemirror_mode": {
    "name": "ipython",
    "version": 3
   },
   "file_extension": ".py",
   "mimetype": "text/x-python",
   "name": "python",
   "nbconvert_exporter": "python",
   "pygments_lexer": "ipython3",
   "version": "3.9.13"
  }
 },
 "nbformat": 4,
 "nbformat_minor": 5
}
