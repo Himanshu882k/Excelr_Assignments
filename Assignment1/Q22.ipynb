{
 "cells": [
  {
   "cell_type": "code",
   "execution_count": 13,
   "id": "265b0d91",
   "metadata": {},
   "outputs": [],
   "source": [
    "from scipy.stats import norm"
   ]
  },
  {
   "cell_type": "code",
   "execution_count": 18,
   "id": "241b4718",
   "metadata": {},
   "outputs": [],
   "source": [
    "zscore = norm.ppf(0.97)"
   ]
  },
  {
   "cell_type": "code",
   "execution_count": 19,
   "id": "38102367",
   "metadata": {},
   "outputs": [
    {
     "data": {
      "text/plain": [
       "1.8807936081512509"
      ]
     },
     "execution_count": 19,
     "metadata": {},
     "output_type": "execute_result"
    }
   ],
   "source": [
    "zscore\n"
   ]
  },
  {
   "cell_type": "code",
   "execution_count": 20,
   "id": "afa5fbcf",
   "metadata": {},
   "outputs": [
    {
     "data": {
      "text/plain": [
       "1.6448536269514722"
      ]
     },
     "execution_count": 20,
     "metadata": {},
     "output_type": "execute_result"
    }
   ],
   "source": [
    "zscore = norm.ppf(0.95)\n",
    "zscore "
   ]
  },
  {
   "cell_type": "code",
   "execution_count": 21,
   "id": "0f0a0157",
   "metadata": {},
   "outputs": [
    {
     "data": {
      "text/plain": [
       "0.8416212335729143"
      ]
     },
     "execution_count": 21,
     "metadata": {},
     "output_type": "execute_result"
    }
   ],
   "source": [
    "zscore = norm.ppf(0.80)\n",
    "zscore "
   ]
  },
  {
   "cell_type": "code",
   "execution_count": null,
   "id": "01ee6b1d",
   "metadata": {},
   "outputs": [],
   "source": []
  }
 ],
 "metadata": {
  "kernelspec": {
   "display_name": "Python 3 (ipykernel)",
   "language": "python",
   "name": "python3"
  },
  "language_info": {
   "codemirror_mode": {
    "name": "ipython",
    "version": 3
   },
   "file_extension": ".py",
   "mimetype": "text/x-python",
   "name": "python",
   "nbconvert_exporter": "python",
   "pygments_lexer": "ipython3",
   "version": "3.9.13"
  }
 },
 "nbformat": 4,
 "nbformat_minor": 5
}
