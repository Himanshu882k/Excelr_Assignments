{
 "cells": [
  {
   "cell_type": "code",
   "execution_count": 30,
   "id": "9482aab4",
   "metadata": {},
   "outputs": [],
   "source": [
    "import pandas as pd\n",
    "import numpy as np\n",
    "import statistics\n",
    "import matplotlib.pyplot as plt\n",
    "import scipy"
   ]
  },
  {
   "cell_type": "code",
   "execution_count": 31,
   "id": "4b2464e2",
   "metadata": {},
   "outputs": [],
   "source": [
    "my_array = [34, 36, 36, 38, 38, 39, 39, 40, 40, 41, 41, 41, 41, 42, 42, 45, 49, 56]\n"
   ]
  },
  {
   "cell_type": "code",
   "execution_count": 32,
   "id": "df5e9096",
   "metadata": {},
   "outputs": [
    {
     "data": {
      "text/plain": [
       "41"
      ]
     },
     "execution_count": 32,
     "metadata": {},
     "output_type": "execute_result"
    }
   ],
   "source": [
    "mean(my_array)"
   ]
  },
  {
   "cell_type": "code",
   "execution_count": 33,
   "id": "6390edbf",
   "metadata": {},
   "outputs": [
    {
     "data": {
      "text/plain": [
       "40.5"
      ]
     },
     "execution_count": 33,
     "metadata": {},
     "output_type": "execute_result"
    }
   ],
   "source": [
    "statistics.median(my_array)"
   ]
  },
  {
   "cell_type": "code",
   "execution_count": 34,
   "id": "f9b8d9ba",
   "metadata": {},
   "outputs": [
    {
     "data": {
      "text/plain": [
       "25.529411764705884"
      ]
     },
     "execution_count": 34,
     "metadata": {},
     "output_type": "execute_result"
    }
   ],
   "source": [
    "statistics.variance(my_array)"
   ]
  },
  {
   "cell_type": "code",
   "execution_count": 35,
   "id": "02585607",
   "metadata": {},
   "outputs": [
    {
     "data": {
      "text/plain": [
       "5.05266382858645"
      ]
     },
     "execution_count": 35,
     "metadata": {},
     "output_type": "execute_result"
    }
   ],
   "source": [
    "statistics.stdev(my_array)"
   ]
  },
  {
   "cell_type": "code",
   "execution_count": 36,
   "id": "4068871d",
   "metadata": {},
   "outputs": [
    {
     "data": {
      "text/plain": [
       "{'whiskers': [<matplotlib.lines.Line2D at 0x21118921d00>,\n",
       "  <matplotlib.lines.Line2D at 0x21118921fd0>],\n",
       " 'caps': [<matplotlib.lines.Line2D at 0x211189412e0>,\n",
       "  <matplotlib.lines.Line2D at 0x211189415b0>],\n",
       " 'boxes': [<matplotlib.lines.Line2D at 0x21118921a30>],\n",
       " 'medians': [<matplotlib.lines.Line2D at 0x21118941880>],\n",
       " 'fliers': [<matplotlib.lines.Line2D at 0x21118941b50>],\n",
       " 'means': []}"
      ]
     },
     "execution_count": 36,
     "metadata": {},
     "output_type": "execute_result"
    },
    {
     "data": {
      "image/png": "[encoded data removed]",
      "text/plain": [
       "<Figure size 640x480 with 1 Axes>"
      ]
     },
     "metadata": {},
     "output_type": "display_data"
    }
   ],
   "source": [
    "plt.boxplot(my_array)"
   ]
  },
  {
   "cell_type": "code",
   "execution_count": null,
   "id": "64894fdc",
   "metadata": {},
   "outputs": [],
   "source": []
  }
 ],
 "metadata": {
  "kernelspec": {
   "display_name": "Python 3 (ipykernel)",
   "language": "python",
   "name": "python3"
  },
  "language_info": {
   "codemirror_mode": {
    "name": "ipython",
    "version": 3
   },
   "file_extension": ".py",
   "mimetype": "text/x-python",
   "name": "python",
   "nbconvert_exporter": "python",
   "pygments_lexer": "ipython3",
   "version": "3.9.13"
  }
 },
 "nbformat": 4,
 "nbformat_minor": 5
}
