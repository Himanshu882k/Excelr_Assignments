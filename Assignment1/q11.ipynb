{
 "cells": [
  {
   "cell_type": "code",
   "execution_count": 3,
   "id": "5fe93de3",
   "metadata": {},
   "outputs": [],
   "source": [
    "import pandas as pd\n",
    "import numpy as np\n",
    "from scipy import stats\n",
    "import scipy"
   ]
  },
  {
   "cell_type": "code",
   "execution_count": 19,
   "id": "83dad862",
   "metadata": {},
   "outputs": [
    {
     "data": {
      "text/plain": [
       "2.055089962825778"
      ]
     },
     "execution_count": 19,
     "metadata": {},
     "output_type": "execute_result"
    }
   ],
   "source": [
    "stats.t.ppf(0.98,1999)"
   ]
  },
  {
   "cell_type": "code",
   "execution_count": 20,
   "id": "1fe38505",
   "metadata": {},
   "outputs": [],
   "source": [
    "s = 2.05*30/np.sqrt(2000)"
   ]
  },
  {
   "cell_type": "code",
   "execution_count": 21,
   "id": "08faacea",
   "metadata": {
    "scrolled": true
   },
   "outputs": [
    {
     "data": {
      "text/plain": [
       "1.3751818061623704"
      ]
     },
     "execution_count": 21,
     "metadata": {},
     "output_type": "execute_result"
    }
   ],
   "source": [
    "s"
   ]
  },
  {
   "cell_type": "code",
   "execution_count": 22,
   "id": "883e2a2e",
   "metadata": {},
   "outputs": [
    {
     "data": {
      "text/plain": [
       "198.63"
      ]
     },
     "execution_count": 22,
     "metadata": {},
     "output_type": "execute_result"
    }
   ],
   "source": [
    "200-1.37"
   ]
  },
  {
   "cell_type": "code",
   "execution_count": 23,
   "id": "4fc210a6",
   "metadata": {},
   "outputs": [
    {
     "data": {
      "text/plain": [
       "201.37"
      ]
     },
     "execution_count": 23,
     "metadata": {},
     "output_type": "execute_result"
    }
   ],
   "source": [
    "200+1.37"
   ]
  },
  {
   "cell_type": "code",
   "execution_count": null,
   "id": "7edba591",
   "metadata": {},
   "outputs": [],
   "source": []
  }
 ],
 "metadata": {
  "kernelspec": {
   "display_name": "Python 3 (ipykernel)",
   "language": "python",
   "name": "python3"
  },
  "language_info": {
   "codemirror_mode": {
    "name": "ipython",
    "version": 3
   },
   "file_extension": ".py",
   "mimetype": "text/x-python",
   "name": "python",
   "nbconvert_exporter": "python",
   "pygments_lexer": "ipython3",
   "version": "3.9.13"
  }
 },
 "nbformat": 4,
 "nbformat_minor": 5
}
